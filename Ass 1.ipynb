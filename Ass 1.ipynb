{
 "cells": [
  {
   "cell_type": "code",
   "execution_count": 1,
   "id": "f5cc7451-d0a2-431b-b162-eda357c3d8e5",
   "metadata": {},
   "outputs": [],
   "source": [
    "# variables containing data"
   ]
  },
  {
   "cell_type": "code",
   "execution_count": 2,
   "id": "b7d482ee-fccd-41bc-b2da-89d624b75382",
   "metadata": {},
   "outputs": [],
   "source": [
    "a = \"Renu Gupta\""
   ]
  },
  {
   "cell_type": "code",
   "execution_count": 3,
   "id": "f5ce707e-8cd7-407f-8afe-04ce7543a0ae",
   "metadata": {},
   "outputs": [
    {
     "data": {
      "text/plain": [
       "str"
      ]
     },
     "execution_count": 3,
     "metadata": {},
     "output_type": "execute_result"
    }
   ],
   "source": [
    "type(a)"
   ]
  },
  {
   "cell_type": "code",
   "execution_count": 4,
   "id": "52896dbf-b3e7-4c04-a8b0-f3bb406c2c71",
   "metadata": {},
   "outputs": [],
   "source": [
    "b = [1,2,3,4]"
   ]
  },
  {
   "cell_type": "code",
   "execution_count": null,
   "id": "9c7d5d1a-8dc4-429d-a05e-67c34c4650d7",
   "metadata": {},
   "outputs": [
    {
     "data": {
      "text/plain": [
       "list"
      ]
     },
     "execution_count": 11,
     "metadata": {},
     "output_type": "execute_result"
    }
   ],
   "source": [
    "type(b)"
   ]
  },
  {
   "cell_type": "code",
   "execution_count": 12,
   "id": "4c9cf1e6-a08f-4cd8-841b-7e766ef5785f",
   "metadata": {},
   "outputs": [],
   "source": [
    "c = 17.06"
   ]
  },
  {
   "cell_type": "code",
   "execution_count": 13,
   "id": "e6620462-8c57-4786-a0d2-a8672ed45c17",
   "metadata": {},
   "outputs": [
    {
     "data": {
      "text/plain": [
       "float"
      ]
     },
     "execution_count": 13,
     "metadata": {},
     "output_type": "execute_result"
    }
   ],
   "source": [
    "type(c)"
   ]
  },
  {
   "cell_type": "code",
   "execution_count": 14,
   "id": "0b8b54d4-e7cf-4416-acdd-ef670703e195",
   "metadata": {},
   "outputs": [],
   "source": [
    "d = (2, 12.6, \"Renu Gupta\", [1,2,3,4])"
   ]
  },
  {
   "cell_type": "code",
   "execution_count": 15,
   "id": "9b0ef9ed-dad8-4186-b08a-96c07ee3acf0",
   "metadata": {},
   "outputs": [
    {
     "data": {
      "text/plain": [
       "tuple"
      ]
     },
     "execution_count": 15,
     "metadata": {},
     "output_type": "execute_result"
    }
   ],
   "source": [
    "type(d)"
   ]
  },
  {
   "cell_type": "code",
   "execution_count": 1,
   "id": "1953c654-734a-41e3-bc83-a8cd209ab929",
   "metadata": {},
   "outputs": [],
   "source": [
    "# Q2. "
   ]
  },
  {
   "cell_type": "code",
   "execution_count": 2,
   "id": "7223a3c1-df1e-4631-bf0a-297d8e7c63eb",
   "metadata": {},
   "outputs": [],
   "source": [
    "var1 = ''"
   ]
  },
  {
   "cell_type": "code",
   "execution_count": 4,
   "id": "47c18300-244f-4e5e-8ebf-a65e3b5bcadf",
   "metadata": {},
   "outputs": [
    {
     "data": {
      "text/plain": [
       "str"
      ]
     },
     "execution_count": 4,
     "metadata": {},
     "output_type": "execute_result"
    }
   ],
   "source": [
    "type(var1)"
   ]
  },
  {
   "cell_type": "code",
   "execution_count": 7,
   "id": "9af73e61-bb3d-4000-9e55-2e61a230b829",
   "metadata": {},
   "outputs": [],
   "source": [
    "var2 = '[ DS , ML , Python]'"
   ]
  },
  {
   "cell_type": "code",
   "execution_count": 8,
   "id": "5ecb8904-6622-454e-b0ce-2d8a93dfec2c",
   "metadata": {},
   "outputs": [
    {
     "data": {
      "text/plain": [
       "str"
      ]
     },
     "execution_count": 8,
     "metadata": {},
     "output_type": "execute_result"
    }
   ],
   "source": [
    "type(var2)"
   ]
  },
  {
   "cell_type": "code",
   "execution_count": 9,
   "id": "2aa57f7b-2b45-4487-95a4-965f3f2db6b1",
   "metadata": {},
   "outputs": [],
   "source": [
    "var3 = ['DS' , 'ML' , 'Python']"
   ]
  },
  {
   "cell_type": "code",
   "execution_count": 10,
   "id": "da9e3004-3df0-401f-b000-e26e70cfbcaf",
   "metadata": {},
   "outputs": [
    {
     "data": {
      "text/plain": [
       "list"
      ]
     },
     "execution_count": 10,
     "metadata": {},
     "output_type": "execute_result"
    }
   ],
   "source": [
    "type(var3)"
   ]
  },
  {
   "cell_type": "code",
   "execution_count": 11,
   "id": "e15c3c44-7d53-4c6a-91a9-2a327cb28f90",
   "metadata": {},
   "outputs": [],
   "source": [
    "var4 = 1"
   ]
  },
  {
   "cell_type": "code",
   "execution_count": 12,
   "id": "bab82482-32bc-4ed3-a4f0-2d44426d7219",
   "metadata": {},
   "outputs": [
    {
     "data": {
      "text/plain": [
       "int"
      ]
     },
     "execution_count": 12,
     "metadata": {},
     "output_type": "execute_result"
    }
   ],
   "source": [
    "type(var4)"
   ]
  },
  {
   "cell_type": "code",
   "execution_count": 1,
   "id": "36f5ed03-17b2-4028-86b6-92c545a0aa80",
   "metadata": {},
   "outputs": [],
   "source": [
    "# Q3. Operators"
   ]
  },
  {
   "cell_type": "code",
   "execution_count": 3,
   "id": "e8ed8a96-4f96-4b3c-a55f-c75f4259c20c",
   "metadata": {},
   "outputs": [
    {
     "data": {
      "text/plain": [
       "2.0"
      ]
     },
     "execution_count": 3,
     "metadata": {},
     "output_type": "execute_result"
    }
   ],
   "source": [
    "10/5 # division operator"
   ]
  },
  {
   "cell_type": "code",
   "execution_count": 2,
   "id": "542755a3-ab82-49e0-8569-efb9fb825c60",
   "metadata": {},
   "outputs": [
    {
     "data": {
      "text/plain": [
       "1"
      ]
     },
     "execution_count": 2,
     "metadata": {},
     "output_type": "execute_result"
    }
   ],
   "source": [
    "1%4 # modulus operator \n",
    "# this didvides 1 by 4 and write the remainder"
   ]
  },
  {
   "cell_type": "code",
   "execution_count": 3,
   "id": "ccb01794-f2cd-4462-b5f5-601e5bd22337",
   "metadata": {},
   "outputs": [
    {
     "data": {
      "text/plain": [
       "7"
      ]
     },
     "execution_count": 3,
     "metadata": {},
     "output_type": "execute_result"
    }
   ],
   "source": [
    "36//5 # Floor division operator"
   ]
  },
  {
   "cell_type": "code",
   "execution_count": 4,
   "id": "69056dc0-c941-4e66-8e5d-346bf8d85f94",
   "metadata": {},
   "outputs": [],
   "source": [
    "# the result of 36//5 is 7.2 and the nearest value is 7"
   ]
  },
  {
   "cell_type": "code",
   "execution_count": 5,
   "id": "b800b65b-b05b-471c-884f-c6c9c66ab9ba",
   "metadata": {},
   "outputs": [
    {
     "data": {
      "text/plain": [
       "27"
      ]
     },
     "execution_count": 5,
     "metadata": {},
     "output_type": "execute_result"
    }
   ],
   "source": [
    "3**3 # Exponential operator"
   ]
  },
  {
   "cell_type": "code",
   "execution_count": 6,
   "id": "4cce1082-6cf3-499c-9cd1-bf3fc773c856",
   "metadata": {},
   "outputs": [],
   "source": [
    "# Q 4. "
   ]
  },
  {
   "cell_type": "code",
   "execution_count": 17,
   "id": "4e0fdb35-c2e7-4fe7-8834-32722fcaf4b3",
   "metadata": {},
   "outputs": [],
   "source": [
    "l = [2 , 23.06, \"Renu\", 2+3j, True, False, 3, 17, 17+6j, \"Gupta\" ]"
   ]
  },
  {
   "cell_type": "code",
   "execution_count": 19,
   "id": "a7e716b0-2654-4402-9e84-60dbed7b9029",
   "metadata": {},
   "outputs": [
    {
     "name": "stdout",
     "output_type": "stream",
     "text": [
      "2\n",
      "<class 'int'>\n",
      "23.06\n",
      "<class 'float'>\n",
      "Renu\n",
      "<class 'str'>\n",
      "(2+3j)\n",
      "<class 'complex'>\n",
      "True\n",
      "<class 'bool'>\n",
      "False\n",
      "<class 'bool'>\n",
      "3\n",
      "<class 'int'>\n",
      "17\n",
      "<class 'int'>\n",
      "(17+6j)\n",
      "<class 'complex'>\n",
      "Gupta\n",
      "<class 'str'>\n"
     ]
    }
   ],
   "source": [
    "for i in l :\n",
    "    print(i)\n",
    "    print(type(i))"
   ]
  },
  {
   "cell_type": "code",
   "execution_count": 1,
   "id": "32a72bf6-5259-41ba-895f-09aa484f8f11",
   "metadata": {},
   "outputs": [],
   "source": [
    "# Q.5"
   ]
  },
  {
   "cell_type": "code",
   "execution_count": 2,
   "id": "c3ff77ff-1922-41aa-ad61-a90a3da57433",
   "metadata": {},
   "outputs": [
    {
     "name": "stdin",
     "output_type": "stream",
     "text": [
      "Enter number A:  50\n",
      "Enter number B:  2\n"
     ]
    },
    {
     "name": "stdout",
     "output_type": "stream",
     "text": [
      "50 is divisible by 2 a total of 25 times.\n"
     ]
    }
   ],
   "source": [
    "def count_divisions(a, b):\n",
    "    count = 0\n",
    "    \n",
    "    while a >= b:\n",
    "        a -= b\n",
    "        count += 1\n",
    "    \n",
    "    return count\n",
    "\n",
    "number_A = int(input(\"Enter number A: \"))\n",
    "number_B = int(input(\"Enter number B: \"))\n",
    "\n",
    "result = count_divisions(number_A, number_B)\n",
    "print(f\"{number_A} is divisible by {number_B} a total of {result} times.\")"
   ]
  },
  {
   "cell_type": "code",
   "execution_count": 3,
   "id": "296effa5-98a9-4fd0-a2d4-b5b492606e9a",
   "metadata": {},
   "outputs": [],
   "source": [
    "# Q.6"
   ]
  },
  {
   "cell_type": "code",
   "execution_count": 5,
   "id": "6057262b-cdeb-4048-8595-a1bf0a3eb97b",
   "metadata": {},
   "outputs": [
    {
     "name": "stdout",
     "output_type": "stream",
     "text": [
      "Not divisible by 3\n",
      "Not divisible by 3\n",
      "divisible by 3\n",
      "Not divisible by 3\n",
      "Not divisible by 3\n",
      "divisible by 3\n",
      "Not divisible by 3\n",
      "Not divisible by 3\n",
      "divisible by 3\n",
      "Not divisible by 3\n",
      "Not divisible by 3\n",
      "divisible by 3\n",
      "Not divisible by 3\n",
      "Not divisible by 3\n",
      "divisible by 3\n",
      "Not divisible by 3\n",
      "Not divisible by 3\n",
      "divisible by 3\n",
      "Not divisible by 3\n",
      "Not divisible by 3\n",
      "divisible by 3\n",
      "Not divisible by 3\n",
      "Not divisible by 3\n",
      "divisible by 3\n",
      "Not divisible by 3\n"
     ]
    }
   ],
   "source": [
    "List = [1, 2, 3, 4, 5, 6, 7, 8, 9, 10, 11, 12, 13, 14, 15, 16, 17, 18, 19, 20, 21, 22, 23, 24, 25]\n",
    "for i in List:\n",
    "    if i % 3 == 0:\n",
    "        print(\"divisible by 3\")\n",
    "    else:\n",
    "        print(\"Not divisible by 3\")"
   ]
  },
  {
   "cell_type": "code",
   "execution_count": 7,
   "id": "73ac4b8d-13ec-4a15-bbad-f5855ff79318",
   "metadata": {},
   "outputs": [],
   "source": [
    "# Q. 7 mutability & Immutability"
   ]
  },
  {
   "cell_type": "code",
   "execution_count": 8,
   "id": "27be1f82-03ef-4bd3-9c41-29b8aa7fb62c",
   "metadata": {},
   "outputs": [],
   "source": [
    "L = [1,2,3,4,\"Renu\"]\n",
    "A = \"Nidhi\""
   ]
  },
  {
   "cell_type": "code",
   "execution_count": 9,
   "id": "ab8431e7-dfde-4e51-b286-33e7b42de873",
   "metadata": {},
   "outputs": [
    {
     "data": {
      "text/plain": [
       "'Renu'"
      ]
     },
     "execution_count": 9,
     "metadata": {},
     "output_type": "execute_result"
    }
   ],
   "source": [
    "L [4]"
   ]
  },
  {
   "cell_type": "code",
   "execution_count": 10,
   "id": "6b751406-8fad-4d0c-890b-d09af8731dc4",
   "metadata": {},
   "outputs": [],
   "source": [
    "L[4] = \"Nidhi\""
   ]
  },
  {
   "cell_type": "code",
   "execution_count": 11,
   "id": "c9c45e08-b933-42c0-b5f3-2dfacae8b6d2",
   "metadata": {},
   "outputs": [
    {
     "data": {
      "text/plain": [
       "[1, 2, 3, 4, 'Nidhi']"
      ]
     },
     "execution_count": 11,
     "metadata": {},
     "output_type": "execute_result"
    }
   ],
   "source": [
    "L"
   ]
  },
  {
   "cell_type": "code",
   "execution_count": 12,
   "id": "3c90f1bf-f679-4381-9f20-0e13a7d63015",
   "metadata": {},
   "outputs": [
    {
     "data": {
      "text/plain": [
       "'i'"
      ]
     },
     "execution_count": 12,
     "metadata": {},
     "output_type": "execute_result"
    }
   ],
   "source": [
    "A[4]"
   ]
  },
  {
   "cell_type": "code",
   "execution_count": 13,
   "id": "b7d82013-e390-4e1e-94c4-5629acf3e8b6",
   "metadata": {},
   "outputs": [
    {
     "ename": "TypeError",
     "evalue": "'str' object does not support item assignment",
     "output_type": "error",
     "traceback": [
      "\u001b[0;31m---------------------------------------------------------------------------\u001b[0m",
      "\u001b[0;31mTypeError\u001b[0m                                 Traceback (most recent call last)",
      "Cell \u001b[0;32mIn[13], line 1\u001b[0m\n\u001b[0;32m----> 1\u001b[0m \u001b[43mA\u001b[49m\u001b[43m[\u001b[49m\u001b[38;5;241;43m4\u001b[39;49m\u001b[43m]\u001b[49m \u001b[38;5;241m=\u001b[39m \u001b[38;5;124m\"\u001b[39m\u001b[38;5;124mu\u001b[39m\u001b[38;5;124m\"\u001b[39m\n",
      "\u001b[0;31mTypeError\u001b[0m: 'str' object does not support item assignment"
     ]
    }
   ],
   "source": [
    "A[4] = \"u\""
   ]
  },
  {
   "cell_type": "code",
   "execution_count": null,
   "id": "79fc05cc-68ef-43e4-a438-646cd422b7a1",
   "metadata": {},
   "outputs": [],
   "source": [
    "# from this i understood that in list it is possible that we can replace soething but in string it is not possible \n",
    "# List supports mutability while string supports immutability"
   ]
  }
 ],
 "metadata": {
  "kernelspec": {
   "display_name": "Python 3 (ipykernel)",
   "language": "python",
   "name": "python3"
  },
  "language_info": {
   "codemirror_mode": {
    "name": "ipython",
    "version": 3
   },
   "file_extension": ".py",
   "mimetype": "text/x-python",
   "name": "python",
   "nbconvert_exporter": "python",
   "pygments_lexer": "ipython3",
   "version": "3.10.8"
  }
 },
 "nbformat": 4,
 "nbformat_minor": 5
}
